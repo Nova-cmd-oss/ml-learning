{
  "nbformat": 4,
  "nbformat_minor": 0,
  "metadata": {
    "colab": {
      "provenance": [],
      "authorship_tag": "ABX9TyOlKHMfm41b6p3TVfLPasGe",
      "include_colab_link": true
    },
    "kernelspec": {
      "name": "python3",
      "display_name": "Python 3"
    },
    "language_info": {
      "name": "python"
    }
  },
  "cells": [
    {
      "cell_type": "markdown",
      "metadata": {
        "id": "view-in-github",
        "colab_type": "text"
      },
      "source": [
        "<a href=\"https://colab.research.google.com/github/Nova-cmd-oss/ml-learning/blob/master/Python/01_Variables.ipynb\" target=\"_parent\"><img src=\"https://colab.research.google.com/assets/colab-badge.svg\" alt=\"Open In Colab\"/></a>"
      ]
    },
    {
      "cell_type": "code",
      "execution_count": 1,
      "metadata": {
        "colab": {
          "base_uri": "https://localhost:8080/"
        },
        "id": "0ushaqlyThSY",
        "outputId": "e225d221-9e1c-4342-8552-30c998e38724"
      },
      "outputs": [
        {
          "output_type": "stream",
          "name": "stdout",
          "text": [
            "Hello, Collab\n"
          ]
        }
      ],
      "source": [
        "print(\"Hello, Collab\")"
      ]
    },
    {
      "cell_type": "code",
      "source": [
        "print(\"completed workflow setup\")"
      ],
      "metadata": {
        "colab": {
          "base_uri": "https://localhost:8080/"
        },
        "id": "EhjT21nWT8Q1",
        "outputId": "323b8f19-a4ff-46bb-a206-69263188801a"
      },
      "execution_count": 2,
      "outputs": [
        {
          "output_type": "stream",
          "name": "stdout",
          "text": [
            "completed workflow setup\n"
          ]
        }
      ]
    },
    {
      "cell_type": "code",
      "source": [],
      "metadata": {
        "id": "JF8VtcaidTnu"
      },
      "execution_count": null,
      "outputs": []
    }
  ]
}